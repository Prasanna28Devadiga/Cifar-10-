{
 "cells": [
  {
   "cell_type": "code",
   "execution_count": 2,
   "metadata": {},
   "outputs": [
    {
     "name": "stderr",
     "output_type": "stream",
     "text": [
      "C:\\ProgramData\\Anaconda3\\lib\\site-packages\\tensorflow\\python\\framework\\dtypes.py:516: FutureWarning: Passing (type, 1) or '1type' as a synonym of type is deprecated; in a future version of numpy, it will be understood as (type, (1,)) / '(1,)type'.\n",
      "  _np_qint8 = np.dtype([(\"qint8\", np.int8, 1)])\n",
      "C:\\ProgramData\\Anaconda3\\lib\\site-packages\\tensorflow\\python\\framework\\dtypes.py:517: FutureWarning: Passing (type, 1) or '1type' as a synonym of type is deprecated; in a future version of numpy, it will be understood as (type, (1,)) / '(1,)type'.\n",
      "  _np_quint8 = np.dtype([(\"quint8\", np.uint8, 1)])\n",
      "C:\\ProgramData\\Anaconda3\\lib\\site-packages\\tensorflow\\python\\framework\\dtypes.py:518: FutureWarning: Passing (type, 1) or '1type' as a synonym of type is deprecated; in a future version of numpy, it will be understood as (type, (1,)) / '(1,)type'.\n",
      "  _np_qint16 = np.dtype([(\"qint16\", np.int16, 1)])\n",
      "C:\\ProgramData\\Anaconda3\\lib\\site-packages\\tensorflow\\python\\framework\\dtypes.py:519: FutureWarning: Passing (type, 1) or '1type' as a synonym of type is deprecated; in a future version of numpy, it will be understood as (type, (1,)) / '(1,)type'.\n",
      "  _np_quint16 = np.dtype([(\"quint16\", np.uint16, 1)])\n",
      "C:\\ProgramData\\Anaconda3\\lib\\site-packages\\tensorflow\\python\\framework\\dtypes.py:520: FutureWarning: Passing (type, 1) or '1type' as a synonym of type is deprecated; in a future version of numpy, it will be understood as (type, (1,)) / '(1,)type'.\n",
      "  _np_qint32 = np.dtype([(\"qint32\", np.int32, 1)])\n",
      "C:\\ProgramData\\Anaconda3\\lib\\site-packages\\tensorflow\\python\\framework\\dtypes.py:525: FutureWarning: Passing (type, 1) or '1type' as a synonym of type is deprecated; in a future version of numpy, it will be understood as (type, (1,)) / '(1,)type'.\n",
      "  np_resource = np.dtype([(\"resource\", np.ubyte, 1)])\n",
      "C:\\ProgramData\\Anaconda3\\lib\\site-packages\\tensorboard\\compat\\tensorflow_stub\\dtypes.py:541: FutureWarning: Passing (type, 1) or '1type' as a synonym of type is deprecated; in a future version of numpy, it will be understood as (type, (1,)) / '(1,)type'.\n",
      "  _np_qint8 = np.dtype([(\"qint8\", np.int8, 1)])\n",
      "C:\\ProgramData\\Anaconda3\\lib\\site-packages\\tensorboard\\compat\\tensorflow_stub\\dtypes.py:542: FutureWarning: Passing (type, 1) or '1type' as a synonym of type is deprecated; in a future version of numpy, it will be understood as (type, (1,)) / '(1,)type'.\n",
      "  _np_quint8 = np.dtype([(\"quint8\", np.uint8, 1)])\n",
      "C:\\ProgramData\\Anaconda3\\lib\\site-packages\\tensorboard\\compat\\tensorflow_stub\\dtypes.py:543: FutureWarning: Passing (type, 1) or '1type' as a synonym of type is deprecated; in a future version of numpy, it will be understood as (type, (1,)) / '(1,)type'.\n",
      "  _np_qint16 = np.dtype([(\"qint16\", np.int16, 1)])\n",
      "C:\\ProgramData\\Anaconda3\\lib\\site-packages\\tensorboard\\compat\\tensorflow_stub\\dtypes.py:544: FutureWarning: Passing (type, 1) or '1type' as a synonym of type is deprecated; in a future version of numpy, it will be understood as (type, (1,)) / '(1,)type'.\n",
      "  _np_quint16 = np.dtype([(\"quint16\", np.uint16, 1)])\n",
      "C:\\ProgramData\\Anaconda3\\lib\\site-packages\\tensorboard\\compat\\tensorflow_stub\\dtypes.py:545: FutureWarning: Passing (type, 1) or '1type' as a synonym of type is deprecated; in a future version of numpy, it will be understood as (type, (1,)) / '(1,)type'.\n",
      "  _np_qint32 = np.dtype([(\"qint32\", np.int32, 1)])\n",
      "C:\\ProgramData\\Anaconda3\\lib\\site-packages\\tensorboard\\compat\\tensorflow_stub\\dtypes.py:550: FutureWarning: Passing (type, 1) or '1type' as a synonym of type is deprecated; in a future version of numpy, it will be understood as (type, (1,)) / '(1,)type'.\n",
      "  np_resource = np.dtype([(\"resource\", np.ubyte, 1)])\n",
      "Using TensorFlow backend.\n"
     ]
    }
   ],
   "source": [
    "import numpy as np\n",
    "import pandas as pd\n",
    "import tensorflow as tf\n",
    "import matplotlib.pyplot as plt\n",
    "import keras"
   ]
  },
  {
   "cell_type": "code",
   "execution_count": 3,
   "metadata": {},
   "outputs": [],
   "source": [
    "from tensorflow.keras.datasets import cifar10\n",
    "from keras.preprocessing.image import ImageDataGenerator"
   ]
  },
  {
   "cell_type": "code",
   "execution_count": 4,
   "metadata": {},
   "outputs": [],
   "source": [
    "(x_train,y_train),(x_test,y_test)=cifar10.load_data()"
   ]
  },
  {
   "cell_type": "code",
   "execution_count": 5,
   "metadata": {},
   "outputs": [
    {
     "data": {
      "text/plain": [
       "(50000, 32, 32, 3)"
      ]
     },
     "execution_count": 5,
     "metadata": {},
     "output_type": "execute_result"
    }
   ],
   "source": [
    "x_train.shape"
   ]
  },
  {
   "cell_type": "code",
   "execution_count": 6,
   "metadata": {},
   "outputs": [
    {
     "data": {
      "text/plain": [
       "(50000, 1)"
      ]
     },
     "execution_count": 6,
     "metadata": {},
     "output_type": "execute_result"
    }
   ],
   "source": [
    "y_train.shape"
   ]
  },
  {
   "cell_type": "code",
   "execution_count": 7,
   "metadata": {},
   "outputs": [],
   "source": [
    "x_train=x_train/255.0"
   ]
  },
  {
   "cell_type": "code",
   "execution_count": 8,
   "metadata": {},
   "outputs": [],
   "source": [
    "x_test=x_test/255.0"
   ]
  },
  {
   "cell_type": "code",
   "execution_count": 9,
   "metadata": {},
   "outputs": [],
   "source": [
    "from tensorflow.keras.utils import to_categorical\n"
   ]
  },
  {
   "cell_type": "code",
   "execution_count": 10,
   "metadata": {},
   "outputs": [],
   "source": [
    "y_cat_train= to_categorical(y_train,10)"
   ]
  },
  {
   "cell_type": "code",
   "execution_count": 11,
   "metadata": {},
   "outputs": [],
   "source": [
    "y_cat_test=to_categorical(y_test,10)"
   ]
  },
  {
   "cell_type": "code",
   "execution_count": 12,
   "metadata": {},
   "outputs": [],
   "source": [
    "from tensorflow.keras.models import Sequential\n",
    "from tensorflow.keras.layers import Dense, Conv2D, MaxPool2D, Flatten ,Dropout, BatchNormalization\n",
    "\n",
    "datagen = ImageDataGenerator(\n",
    "        featurewise_center=False,  # set input mean to 0 over the dataset\n",
    "        samplewise_center=False,  # set each sample mean to 0\n",
    "        featurewise_std_normalization=False,  # divide inputs by std of the dataset\n",
    "        samplewise_std_normalization=False,  # divide each input by its std\n",
    "        zca_whitening=False,  # apply ZCA whitening\n",
    "        zca_epsilon=1e-06,  # epsilon for ZCA whitening\n",
    "        rotation_range=0,  # randomly rotate images in the range (degrees, 0 to 180)\n",
    "        # randomly shift images horizontally (fraction of total width)\n",
    "        width_shift_range=0.1,\n",
    "        # randomly shift images vertically (fraction of total height)\n",
    "        height_shift_range=0.1,\n",
    "        shear_range=0.,  # set range for random shear\n",
    "        zoom_range=0.,  # set range for random zoom\n",
    "        channel_shift_range=0.,  # set range for random channel shifts\n",
    "        # set mode for filling points outside the input boundaries\n",
    "        fill_mode='nearest',\n",
    "        cval=0.,  # value used for fill_mode = \"constant\"\n",
    "        horizontal_flip=True,  # randomly flip images\n",
    "        vertical_flip=False,  # randomly flip images\n",
    "        # set rescaling factor (applied before any other transformation)\n",
    "        rescale=None,\n",
    "        # set function that will be applied on each input\n",
    "        preprocessing_function=None,\n",
    "        # image data format, either \"channels_first\" or \"channels_last\"\n",
    "        data_format=None,\n",
    "        # fraction of images reserved for validation (strictly between 0 and 1)\n",
    "        validation_split=0.0)\n",
    "\n",
    "datagen.fit(x_train)"
   ]
  },
  {
   "cell_type": "code",
   "execution_count": 13,
   "metadata": {},
   "outputs": [
    {
     "name": "stdout",
     "output_type": "stream",
     "text": [
      "WARNING:tensorflow:From C:\\ProgramData\\Anaconda3\\lib\\site-packages\\tensorflow\\python\\ops\\init_ops.py:1251: calling VarianceScaling.__init__ (from tensorflow.python.ops.init_ops) with dtype is deprecated and will be removed in a future version.\n",
      "Instructions for updating:\n",
      "Call initializer instance with the dtype argument instead of passing it to the constructor\n"
     ]
    }
   ],
   "source": [
    "model = Sequential()\n",
    "\n",
    "model.add(Conv2D(filters=32,kernel_size=(3,3),input_shape=(32,32,3),activation='relu',padding='same'))\n",
    "model.add(BatchNormalization())\n",
    "model.add(Conv2D(filters=32,kernel_size=(3,3),input_shape=(32,32,3),activation='relu',padding='same'))\n",
    "model.add(BatchNormalization())\n",
    "model.add(MaxPool2D(pool_size=(2,2)))\n",
    "model.add(Dropout(0.25))\n",
    "\n",
    "model.add(Conv2D(filters=64,kernel_size=(3,3),input_shape=(32,32,3),activation='relu',padding='same'))\n",
    "model.add(BatchNormalization())\n",
    "model.add(Conv2D(filters=64,kernel_size=(3,3),input_shape=(32,32,3),activation='relu',padding='same'))\n",
    "model.add(BatchNormalization())\n",
    "model.add(MaxPool2D(pool_size=(2,2)))\n",
    "model.add(Dropout(0.35))\n",
    "\n",
    "model.add(Conv2D(filters=128,kernel_size=(3,3),input_shape=(32,32,3),activation='relu',padding='same'))\n",
    "model.add(BatchNormalization())\n",
    "model.add(Conv2D(filters=128,kernel_size=(3,3),input_shape=(32,32,3),activation='relu',padding='same'))\n",
    "model.add(BatchNormalization())\n",
    "model.add(MaxPool2D(pool_size=(2,2)))\n",
    "model.add(Dropout(0.45))\n",
    "\n",
    "model.add(Flatten())\n",
    "\n",
    "model.add(Dense(128,activation='relu'))\n",
    "model.add(BatchNormalization())\n",
    "#model.add(Dense(32,activation='relu'))\n",
    "#model.add(Dense(32,activation='relu'))\n",
    "model.add(Dropout(0.50))\n",
    "\n",
    "model.add(Dense(10,activation='softmax'))\n",
    "\n",
    "model.compile(loss='categorical_crossentropy',optimizer='adam',metrics=['accuracy'])\n",
    "\n",
    "\n",
    "\n",
    "\n",
    "\n",
    " "
   ]
  },
  {
   "cell_type": "code",
   "execution_count": 14,
   "metadata": {},
   "outputs": [
    {
     "name": "stdout",
     "output_type": "stream",
     "text": [
      "WARNING:tensorflow:From C:\\ProgramData\\Anaconda3\\lib\\site-packages\\tensorflow\\python\\ops\\init_ops.py:97: calling GlorotUniform.__init__ (from tensorflow.python.ops.init_ops) with dtype is deprecated and will be removed in a future version.\n",
      "Instructions for updating:\n",
      "Call initializer instance with the dtype argument instead of passing it to the constructor\n",
      "WARNING:tensorflow:From C:\\ProgramData\\Anaconda3\\lib\\site-packages\\tensorflow\\python\\ops\\init_ops.py:97: calling Zeros.__init__ (from tensorflow.python.ops.init_ops) with dtype is deprecated and will be removed in a future version.\n",
      "Instructions for updating:\n",
      "Call initializer instance with the dtype argument instead of passing it to the constructor\n",
      "WARNING:tensorflow:From C:\\ProgramData\\Anaconda3\\lib\\site-packages\\tensorflow\\python\\ops\\init_ops.py:97: calling Ones.__init__ (from tensorflow.python.ops.init_ops) with dtype is deprecated and will be removed in a future version.\n",
      "Instructions for updating:\n",
      "Call initializer instance with the dtype argument instead of passing it to the constructor\n",
      "Model: \"sequential\"\n",
      "_________________________________________________________________\n",
      "Layer (type)                 Output Shape              Param #   \n",
      "=================================================================\n",
      "conv2d (Conv2D)              (None, 32, 32, 32)        896       \n",
      "_________________________________________________________________\n",
      "batch_normalization (BatchNo (None, 32, 32, 32)        128       \n",
      "_________________________________________________________________\n",
      "conv2d_1 (Conv2D)            (None, 32, 32, 32)        9248      \n",
      "_________________________________________________________________\n",
      "batch_normalization_1 (Batch (None, 32, 32, 32)        128       \n",
      "_________________________________________________________________\n",
      "max_pooling2d (MaxPooling2D) (None, 16, 16, 32)        0         \n",
      "_________________________________________________________________\n",
      "dropout (Dropout)            (None, 16, 16, 32)        0         \n",
      "_________________________________________________________________\n",
      "conv2d_2 (Conv2D)            (None, 16, 16, 64)        18496     \n",
      "_________________________________________________________________\n",
      "batch_normalization_2 (Batch (None, 16, 16, 64)        256       \n",
      "_________________________________________________________________\n",
      "conv2d_3 (Conv2D)            (None, 16, 16, 64)        36928     \n",
      "_________________________________________________________________\n",
      "batch_normalization_3 (Batch (None, 16, 16, 64)        256       \n",
      "_________________________________________________________________\n",
      "max_pooling2d_1 (MaxPooling2 (None, 8, 8, 64)          0         \n",
      "_________________________________________________________________\n",
      "dropout_1 (Dropout)          (None, 8, 8, 64)          0         \n",
      "_________________________________________________________________\n",
      "conv2d_4 (Conv2D)            (None, 8, 8, 128)         73856     \n",
      "_________________________________________________________________\n",
      "batch_normalization_4 (Batch (None, 8, 8, 128)         512       \n",
      "_________________________________________________________________\n",
      "conv2d_5 (Conv2D)            (None, 8, 8, 128)         147584    \n",
      "_________________________________________________________________\n",
      "batch_normalization_5 (Batch (None, 8, 8, 128)         512       \n",
      "_________________________________________________________________\n",
      "max_pooling2d_2 (MaxPooling2 (None, 4, 4, 128)         0         \n",
      "_________________________________________________________________\n",
      "dropout_2 (Dropout)          (None, 4, 4, 128)         0         \n",
      "_________________________________________________________________\n",
      "flatten (Flatten)            (None, 2048)              0         \n",
      "_________________________________________________________________\n",
      "dense (Dense)                (None, 128)               262272    \n",
      "_________________________________________________________________\n",
      "batch_normalization_6 (Batch (None, 128)               512       \n",
      "_________________________________________________________________\n",
      "dropout_3 (Dropout)          (None, 128)               0         \n",
      "_________________________________________________________________\n",
      "dense_1 (Dense)              (None, 10)                1290      \n",
      "=================================================================\n",
      "Total params: 552,874\n",
      "Trainable params: 551,722\n",
      "Non-trainable params: 1,152\n",
      "_________________________________________________________________\n"
     ]
    }
   ],
   "source": [
    "from numpy import loadtxt\n",
    "#from keras.models import load_model\n",
    "model=tf.keras.models.load_model('x86.h5')\n",
    "model.summary()"
   ]
  },
  {
   "cell_type": "code",
   "execution_count": 15,
   "metadata": {},
   "outputs": [],
   "source": [
    "from tensorflow.keras.callbacks import EarlyStopping"
   ]
  },
  {
   "cell_type": "code",
   "execution_count": 16,
   "metadata": {},
   "outputs": [],
   "source": [
    "early_stop= EarlyStopping(monitor='val_acc',patience=30)"
   ]
  },
  {
   "cell_type": "code",
   "execution_count": 46,
   "metadata": {
    "scrolled": false
   },
   "outputs": [
    {
     "name": "stdout",
     "output_type": "stream",
     "text": [
      "Epoch 1/50\n",
      "1563/1563 [==============================] - 60s 38ms/step - loss: 0.4300 - acc: 0.8545 - val_loss: 0.4026 - val_acc: 0.8659 4:43 -  - ETA: 1:54 - loss: 0.4192 - acc: 0.85 - ETA: 1:50 - lo\n",
      "Epoch 2/50\n",
      "1563/1563 [==============================] - 53s 34ms/step - loss: 0.4350 - acc: 0.8534 - val_loss: 0.4154 - val_acc: 0.8628\n",
      "Epoch 3/50\n",
      "1563/1563 [==============================] - 53s 34ms/step - loss: 0.4313 - acc: 0.8546 - val_loss: 0.3810 - val_acc: 0.8729\n",
      "Epoch 4/50\n",
      "1563/1563 [==============================] - 56s 36ms/step - loss: 0.4312 - acc: 0.8556 - val_loss: 0.4126 - val_acc: 0.8629\n",
      "Epoch 5/50\n",
      "1563/1563 [==============================] - 56s 36ms/step - loss: 0.4265 - acc: 0.8571 - val_loss: 0.4260 - val_acc: 0.8612\n",
      "Epoch 6/50\n",
      "1563/1563 [==============================] - 56s 36ms/step - loss: 0.4250 - acc: 0.8575 - val_loss: 0.4167 - val_acc: 0.8608\n",
      "Epoch 7/50\n",
      "1563/1563 [==============================] - 55s 35ms/step - loss: 0.4216 - acc: 0.8590 - val_loss: 0.5145 - val_acc: 0.8290\n",
      "Epoch 8/50\n",
      "1563/1563 [==============================] - 56s 36ms/step - loss: 0.4187 - acc: 0.8586 - val_loss: 0.3724 - val_acc: 0.8721\n",
      "Epoch 9/50\n",
      "1563/1563 [==============================] - 56s 36ms/step - loss: 0.4195 - acc: 0.8604 - val_loss: 0.3892 - val_acc: 0.8675\n",
      "Epoch 10/50\n",
      "1563/1563 [==============================] - 55s 35ms/step - loss: 0.4178 - acc: 0.8602 - val_loss: 0.4294 - val_acc: 0.8577\n",
      "Epoch 11/50\n",
      "1563/1563 [==============================] - 51s 32ms/step - loss: 0.4176 - acc: 0.8618 - val_loss: 0.4147 - val_acc: 0.8625\n",
      "Epoch 12/50\n",
      "1563/1563 [==============================] - 51s 32ms/step - loss: 0.4151 - acc: 0.8609 - val_loss: 0.4039 - val_acc: 0.8632\n",
      "Epoch 13/50\n",
      "1563/1563 [==============================] - 51s 33ms/step - loss: 0.4077 - acc: 0.8633 - val_loss: 0.3941 - val_acc: 0.8673\n",
      "Epoch 14/50\n",
      "1563/1563 [==============================] - 56s 36ms/step - loss: 0.4051 - acc: 0.8621 - val_loss: 0.3562 - val_acc: 0.8800\n",
      "Epoch 15/50\n",
      "1563/1563 [==============================] - 55s 36ms/step - loss: 0.4096 - acc: 0.8616 - val_loss: 0.3717 - val_acc: 0.8773\n",
      "Epoch 16/50\n",
      "1563/1563 [==============================] - 52s 33ms/step - loss: 0.3988 - acc: 0.8645 - val_loss: 0.3983 - val_acc: 0.8671\n",
      "Epoch 17/50\n",
      "1563/1563 [==============================] - 51s 32ms/step - loss: 0.4042 - acc: 0.8648 - val_loss: 0.3746 - val_acc: 0.8770\n",
      "Epoch 18/50\n",
      "1563/1563 [==============================] - 51s 32ms/step - loss: 0.4056 - acc: 0.8632 - val_loss: 0.3581 - val_acc: 0.8773\n",
      "Epoch 19/50\n",
      "1563/1563 [==============================] - 51s 32ms/step - loss: 0.4000 - acc: 0.8655 - val_loss: 0.4013 - val_acc: 0.8706\n",
      "Epoch 20/50\n",
      "1563/1563 [==============================] - 53s 34ms/step - loss: 0.4003 - acc: 0.8648 - val_loss: 0.3796 - val_acc: 0.8729\n",
      "Epoch 21/50\n",
      "1563/1563 [==============================] - 51s 33ms/step - loss: 0.3932 - acc: 0.8667 - val_loss: 0.3488 - val_acc: 0.8845\n",
      "Epoch 22/50\n",
      "1563/1563 [==============================] - 59s 38ms/step - loss: 0.3978 - acc: 0.8651 - val_loss: 0.3438 - val_acc: 0.8871\n",
      "Epoch 23/50\n",
      "1563/1563 [==============================] - 55s 35ms/step - loss: 0.4006 - acc: 0.8658 - val_loss: 0.3964 - val_acc: 0.8700\n",
      "Epoch 24/50\n",
      "1563/1563 [==============================] - 56s 36ms/step - loss: 0.3945 - acc: 0.8676 - val_loss: 0.3622 - val_acc: 0.8795\n",
      "Epoch 25/50\n",
      "1563/1563 [==============================] - 60s 38ms/step - loss: 0.3898 - acc: 0.8691 - val_loss: 0.3457 - val_acc: 0.8875\n",
      "Epoch 26/50\n",
      "1563/1563 [==============================] - 59s 38ms/step - loss: 0.3935 - acc: 0.8691 - val_loss: 0.3414 - val_acc: 0.8879\n",
      "Epoch 27/50\n",
      "1563/1563 [==============================] - 59s 38ms/step - loss: 0.3861 - acc: 0.8694 - val_loss: 0.3739 - val_acc: 0.8783\n",
      "Epoch 28/50\n",
      "1563/1563 [==============================] - 57s 36ms/step - loss: 0.3866 - acc: 0.8706 - val_loss: 0.3956 - val_acc: 0.8671\n",
      "Epoch 29/50\n",
      "1563/1563 [==============================] - 56s 36ms/step - loss: 0.3844 - acc: 0.8707 - val_loss: 0.3428 - val_acc: 0.8865\n",
      "Epoch 30/50\n",
      "1563/1563 [==============================] - 55s 36ms/step - loss: 0.3840 - acc: 0.8683 - val_loss: 0.4018 - val_acc: 0.8696\n",
      "Epoch 31/50\n",
      "1563/1563 [==============================] - 55s 35ms/step - loss: 0.3822 - acc: 0.8725 - val_loss: 0.3525 - val_acc: 0.8812\n",
      "Epoch 32/50\n",
      "1563/1563 [==============================] - 55s 35ms/step - loss: 0.3840 - acc: 0.8702 - val_loss: 0.3395 - val_acc: 0.8888\n",
      "Epoch 33/50\n",
      "1563/1563 [==============================] - 56s 36ms/step - loss: 0.3783 - acc: 0.8719 - val_loss: 0.3461 - val_acc: 0.8848\n",
      "Epoch 34/50\n",
      "1563/1563 [==============================] - 56s 36ms/step - loss: 0.3792 - acc: 0.8720 - val_loss: 0.3191 - val_acc: 0.8909\n",
      "Epoch 35/50\n",
      "1563/1563 [==============================] - 56s 36ms/step - loss: 0.3817 - acc: 0.8701 - val_loss: 0.3607 - val_acc: 0.8819\n",
      "Epoch 36/50\n",
      "1563/1563 [==============================] - 55s 35ms/step - loss: 0.3768 - acc: 0.8735 - val_loss: 0.3310 - val_acc: 0.8886\n",
      "Epoch 37/50\n",
      "1563/1563 [==============================] - 53s 34ms/step - loss: 0.3724 - acc: 0.8739 - val_loss: 0.3887 - val_acc: 0.8731\n",
      "Epoch 38/50\n",
      "1563/1563 [==============================] - 56s 36ms/step - loss: 0.3758 - acc: 0.8727 - val_loss: 0.3569 - val_acc: 0.8816\n",
      "Epoch 39/50\n",
      "1563/1563 [==============================] - 53s 34ms/step - loss: 0.3759 - acc: 0.8735 - val_loss: 0.3936 - val_acc: 0.8735\n",
      "Epoch 40/50\n",
      "1563/1563 [==============================] - 52s 33ms/step - loss: 0.3819 - acc: 0.8705 - val_loss: 0.3467 - val_acc: 0.8849\n",
      "Epoch 41/50\n",
      "1563/1563 [==============================] - 52s 33ms/step - loss: 0.3725 - acc: 0.8741 - val_loss: 0.3332 - val_acc: 0.8879\n",
      "Epoch 42/50\n",
      "1563/1563 [==============================] - 51s 33ms/step - loss: 0.3704 - acc: 0.8741 - val_loss: 0.3451 - val_acc: 0.8851\n",
      "Epoch 43/50\n",
      "1563/1563 [==============================] - 51s 33ms/step - loss: 0.3738 - acc: 0.8735 - val_loss: 0.3297 - val_acc: 0.8898\n",
      "Epoch 44/50\n",
      "1563/1563 [==============================] - 51s 33ms/step - loss: 0.3721 - acc: 0.8743 - val_loss: 0.3517 - val_acc: 0.8850\n",
      "Epoch 45/50\n",
      "1563/1563 [==============================] - 51s 33ms/step - loss: 0.3667 - acc: 0.8768 - val_loss: 0.3586 - val_acc: 0.8849\n",
      "Epoch 46/50\n",
      "1563/1563 [==============================] - 52s 33ms/step - loss: 0.3737 - acc: 0.8745 - val_loss: 0.3515 - val_acc: 0.8838\n",
      "Epoch 47/50\n",
      "1563/1563 [==============================] - 56s 36ms/step - loss: 0.3664 - acc: 0.8771 - val_loss: 0.3385 - val_acc: 0.8896\n",
      "Epoch 48/50\n",
      "1563/1563 [==============================] - 56s 36ms/step - loss: 0.3681 - acc: 0.8750 - val_loss: 0.3486 - val_acc: 0.8861\n",
      "Epoch 49/50\n",
      "1563/1563 [==============================] - 56s 36ms/step - loss: 0.3671 - acc: 0.8757 - val_loss: 0.3782 - val_acc: 0.8747\n",
      "Epoch 50/50\n",
      "1563/1563 [==============================] - 56s 36ms/step - loss: 0.3668 - acc: 0.8745 - val_loss: 0.3387 - val_acc: 0.8873\n"
     ]
    },
    {
     "data": {
      "text/plain": [
       "<tensorflow.python.keras.callbacks.History at 0x1a3e1584dc8>"
      ]
     },
     "execution_count": 46,
     "metadata": {},
     "output_type": "execute_result"
    }
   ],
   "source": [
    "model.fit(datagen.flow(x_train,y_cat_train,batch_size=32),epochs=50,validation_data=(x_test,y_cat_test),callbacks=[early_stop])"
   ]
  },
  {
   "cell_type": "code",
   "execution_count": 47,
   "metadata": {},
   "outputs": [
    {
     "data": {
      "text/plain": [
       "<matplotlib.axes._subplots.AxesSubplot at 0x1a38025cf48>"
      ]
     },
     "execution_count": 47,
     "metadata": {},
     "output_type": "execute_result"
    },
    {
     "data": {
      "image/png": "[encoded data removed]",
      "text/plain": [
       "<Figure size 432x288 with 1 Axes>"
      ]
     },
     "metadata": {
      "needs_background": "light"
     },
     "output_type": "display_data"
    }
   ],
   "source": [
    "metrics=pd.DataFrame(model.history.history)\n",
    "metrics[['acc','val_acc']].plot()"
   ]
  },
  {
   "cell_type": "code",
   "execution_count": 49,
   "metadata": {},
   "outputs": [],
   "source": [
    "model.save(filepath=\"x89.h5\")"
   ]
  },
  {
   "cell_type": "code",
   "execution_count": 17,
   "metadata": {},
   "outputs": [
    {
     "data": {
      "text/plain": [
       "['.ipynb_checkpoints',\n",
       " 'Cifar-10.ipynb',\n",
       " 'mnist.ipynb',\n",
       " 'test',\n",
       " 'Untitled.ipynb',\n",
       " 'wandb',\n",
       " 'x.h5',\n",
       " 'x77.h5',\n",
       " 'x78.h5',\n",
       " 'x79.h5',\n",
       " 'x79D128.h5',\n",
       " 'x79D256.h5',\n",
       " 'x86.h5',\n",
       " 'x89.h5']"
      ]
     },
     "execution_count": 17,
     "metadata": {},
     "output_type": "execute_result"
    }
   ],
   "source": [
    "\n",
    "import os\n",
    "os.listdir()"
   ]
  },
  {
   "cell_type": "code",
   "execution_count": 18,
   "metadata": {},
   "outputs": [],
   "source": [
    "data_dir=\"C:\\\\Users\\\\PrasannaDevadiga\\\\Desktop\\\\paper\\\\practice\\\\test\"\n"
   ]
  },
  {
   "cell_type": "code",
   "execution_count": 19,
   "metadata": {},
   "outputs": [],
   "source": [
    "from matplotlib.image import imread"
   ]
  },
  {
   "cell_type": "code",
   "execution_count": 20,
   "metadata": {},
   "outputs": [
    {
     "data": {
      "text/plain": [
       "'C:\\\\Users\\\\PrasannaDevadiga\\\\Desktop\\\\paper\\\\practice'"
      ]
     },
     "execution_count": 20,
     "metadata": {},
     "output_type": "execute_result"
    }
   ],
   "source": [
    "pwd"
   ]
  },
  {
   "cell_type": "code",
   "execution_count": 21,
   "metadata": {},
   "outputs": [],
   "source": [
    "x=300000\n",
    "import natsort\n",
    "a=natsort.natsorted(os.listdir(data_dir))\n",
    "#print(a)\n",
    "test_kaggle=[]\n",
    "for i in a:\n",
    "    x=os.path.join(data_dir,i)\n",
    "    test_kaggle.append(imread(x))\n",
    "\n"
   ]
  },
  {
   "cell_type": "code",
   "execution_count": 22,
   "metadata": {},
   "outputs": [],
   "source": [
    "test_kaggle=np.array(test_kaggle)"
   ]
  },
  {
   "cell_type": "markdown",
   "metadata": {},
   "source": [
    "## "
   ]
  },
  {
   "cell_type": "code",
   "execution_count": 23,
   "metadata": {},
   "outputs": [
    {
     "data": {
      "text/plain": [
       "(300000, 32, 32, 3)"
      ]
     },
     "execution_count": 23,
     "metadata": {},
     "output_type": "execute_result"
    }
   ],
   "source": [
    "test_kaggle.shape"
   ]
  },
  {
   "cell_type": "code",
   "execution_count": 24,
   "metadata": {},
   "outputs": [],
   "source": [
    "new_output=model.predict(test_kaggle)"
   ]
  },
  {
   "cell_type": "code",
   "execution_count": 25,
   "metadata": {},
   "outputs": [],
   "source": [
    "array=[]\n",
    "for i in new_output:\n",
    "    array.append(np.argmax(i)+1)\n"
   ]
  },
  {
   "cell_type": "code",
   "execution_count": 26,
   "metadata": {},
   "outputs": [],
   "source": [
    "array=np.array(array)"
   ]
  },
  {
   "cell_type": "code",
   "execution_count": 27,
   "metadata": {},
   "outputs": [],
   "source": [
    "new_df=pd.DataFrame(array)"
   ]
  },
  {
   "cell_type": "code",
   "execution_count": 28,
   "metadata": {},
   "outputs": [
    {
     "data": {
      "text/html": [
       "<div>\n",
       "<style scoped>\n",
       "    .dataframe tbody tr th:only-of-type {\n",
       "        vertical-align: middle;\n",
       "    }\n",
       "\n",
       "    .dataframe tbody tr th {\n",
       "        vertical-align: top;\n",
       "    }\n",
       "\n",
       "    .dataframe thead th {\n",
       "        text-align: right;\n",
       "    }\n",
       "</style>\n",
       "<table border=\"1\" class=\"dataframe\">\n",
       "  <thead>\n",
       "    <tr style=\"text-align: right;\">\n",
       "      <th></th>\n",
       "      <th>0</th>\n",
       "    </tr>\n",
       "  </thead>\n",
       "  <tbody>\n",
       "    <tr>\n",
       "      <th>1</th>\n",
       "      <td>5</td>\n",
       "    </tr>\n",
       "    <tr>\n",
       "      <th>2</th>\n",
       "      <td>3</td>\n",
       "    </tr>\n",
       "    <tr>\n",
       "      <th>3</th>\n",
       "      <td>2</td>\n",
       "    </tr>\n",
       "    <tr>\n",
       "      <th>4</th>\n",
       "      <td>9</td>\n",
       "    </tr>\n",
       "    <tr>\n",
       "      <th>5</th>\n",
       "      <td>1</td>\n",
       "    </tr>\n",
       "    <tr>\n",
       "      <th>...</th>\n",
       "      <td>...</td>\n",
       "    </tr>\n",
       "    <tr>\n",
       "      <th>299996</th>\n",
       "      <td>9</td>\n",
       "    </tr>\n",
       "    <tr>\n",
       "      <th>299997</th>\n",
       "      <td>3</td>\n",
       "    </tr>\n",
       "    <tr>\n",
       "      <th>299998</th>\n",
       "      <td>7</td>\n",
       "    </tr>\n",
       "    <tr>\n",
       "      <th>299999</th>\n",
       "      <td>7</td>\n",
       "    </tr>\n",
       "    <tr>\n",
       "      <th>300000</th>\n",
       "      <td>2</td>\n",
       "    </tr>\n",
       "  </tbody>\n",
       "</table>\n",
       "<p>300000 rows × 1 columns</p>\n",
       "</div>"
      ],
      "text/plain": [
       "        0\n",
       "1       5\n",
       "2       3\n",
       "3       2\n",
       "4       9\n",
       "5       1\n",
       "...    ..\n",
       "299996  9\n",
       "299997  3\n",
       "299998  7\n",
       "299999  7\n",
       "300000  2\n",
       "\n",
       "[300000 rows x 1 columns]"
      ]
     },
     "execution_count": 28,
     "metadata": {},
     "output_type": "execute_result"
    }
   ],
   "source": [
    "new_df.index+=1\n",
    "new_df"
   ]
  },
  {
   "cell_type": "code",
   "execution_count": 29,
   "metadata": {},
   "outputs": [],
   "source": [
    "map_dict = {1: \"airplane\",2:\"automobile\",3:\"bird\",4:\"cat\",5:\"deer\",6:\"dog\",7:\"frog\",8:\"horse\",9:\"ship\",10:\"truck\"}\n",
    "new_df[\"label\"] = new_df[0].map(map_dict)"
   ]
  },
  {
   "cell_type": "code",
   "execution_count": 34,
   "metadata": {},
   "outputs": [
    {
     "data": {
      "text/html": [
       "<div>\n",
       "<style scoped>\n",
       "    .dataframe tbody tr th:only-of-type {\n",
       "        vertical-align: middle;\n",
       "    }\n",
       "\n",
       "    .dataframe tbody tr th {\n",
       "        vertical-align: top;\n",
       "    }\n",
       "\n",
       "    .dataframe thead th {\n",
       "        text-align: right;\n",
       "    }\n",
       "</style>\n",
       "<table border=\"1\" class=\"dataframe\">\n",
       "  <thead>\n",
       "    <tr style=\"text-align: right;\">\n",
       "      <th></th>\n",
       "      <th>label</th>\n",
       "    </tr>\n",
       "    <tr>\n",
       "      <th>id</th>\n",
       "      <th></th>\n",
       "    </tr>\n",
       "  </thead>\n",
       "  <tbody>\n",
       "    <tr>\n",
       "      <th>1</th>\n",
       "      <td>deer</td>\n",
       "    </tr>\n",
       "    <tr>\n",
       "      <th>2</th>\n",
       "      <td>bird</td>\n",
       "    </tr>\n",
       "    <tr>\n",
       "      <th>3</th>\n",
       "      <td>automobile</td>\n",
       "    </tr>\n",
       "    <tr>\n",
       "      <th>4</th>\n",
       "      <td>ship</td>\n",
       "    </tr>\n",
       "    <tr>\n",
       "      <th>5</th>\n",
       "      <td>airplane</td>\n",
       "    </tr>\n",
       "  </tbody>\n",
       "</table>\n",
       "</div>"
      ],
      "text/plain": [
       "         label\n",
       "id            \n",
       "1         deer\n",
       "2         bird\n",
       "3   automobile\n",
       "4         ship\n",
       "5     airplane"
      ]
     },
     "execution_count": 34,
     "metadata": {},
     "output_type": "execute_result"
    }
   ],
   "source": [
    "xl=new_df.drop([0],axis=1)\n",
    "xl.to_csv(\"C:\\\\Users\\\\PrasannaDevadiga\\\\Desktop\\\\paper\\\\practice\\\\xy.csv\",encoding='utf-8')\n",
    "xl.index.name='id'\n",
    "xl.head()"
   ]
  },
  {
   "cell_type": "code",
   "execution_count": null,
   "metadata": {},
   "outputs": [],
   "source": [
    "df.to_csv('file_name.csv',)"
   ]
  },
  {
   "cell_type": "code",
   "execution_count": null,
   "metadata": {},
   "outputs": [],
   "source": []
  },
  {
   "cell_type": "code",
   "execution_count": null,
   "metadata": {},
   "outputs": [],
   "source": []
  },
  {
   "cell_type": "code",
   "execution_count": null,
   "metadata": {},
   "outputs": [],
   "source": []
  },
  {
   "cell_type": "code",
   "execution_count": null,
   "metadata": {},
   "outputs": [],
   "source": []
  },
  {
   "cell_type": "code",
   "execution_count": null,
   "metadata": {},
   "outputs": [],
   "source": []
  },
  {
   "cell_type": "code",
   "execution_count": null,
   "metadata": {},
   "outputs": [],
   "source": []
  },
  {
   "cell_type": "code",
   "execution_count": null,
   "metadata": {},
   "outputs": [],
   "source": []
  },
  {
   "cell_type": "code",
   "execution_count": null,
   "metadata": {},
   "outputs": [],
   "source": []
  },
  {
   "cell_type": "code",
   "execution_count": null,
   "metadata": {},
   "outputs": [],
   "source": []
  }
 ],
 "metadata": {
  "kernelspec": {
   "display_name": "Python 3",
   "language": "python",
   "name": "python3"
  },
  "language_info": {
   "codemirror_mode": {
    "name": "ipython",
    "version": 3
   },
   "file_extension": ".py",
   "mimetype": "text/x-python",
   "name": "python",
   "nbconvert_exporter": "python",
   "pygments_lexer": "ipython3",
   "version": "3.7.7"
  }
 },
 "nbformat": 4,
 "nbformat_minor": 4
}
