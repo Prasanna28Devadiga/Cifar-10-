{
  "nbformat": 4,
  "nbformat_minor": 0,
  "metadata": {
    "colab": {
      "name": "Cifar-10.ipynb",
      "provenance": [],
      "collapsed_sections": []
    },
    "kernelspec": {
      "name": "python3",
      "display_name": "Python 3"
    },
    "language_info": {
      "name": "python"
    },
    "accelerator": "GPU"
  },
  "cells": [
    {
      "cell_type": "code",
      "metadata": {
        "id": "Rq3EozGhuE50"
      },
      "source": [
        "import torch"
      ],
      "execution_count": 32,
      "outputs": []
    },
    {
      "cell_type": "code",
      "metadata": {
        "id": "5hsDaFBjvJlq"
      },
      "source": [
        "from __future__ import print_function, division\n",
        "import torch.nn as nn\n",
        "import torch.optim as optim\n",
        "from torch.optim import lr_scheduler\n",
        "import numpy as np\n",
        "import torchvision\n",
        "from torchvision import datasets, models, transforms\n",
        "import matplotlib.pyplot as plt\n",
        "import time\n",
        "import os\n",
        "import copy\n",
        "\n",
        "\n",
        "device= torch.device('cuda' if torch.cuda.is_available() else 'cpu' )"
      ],
      "execution_count": 33,
      "outputs": []
    },
    {
      "cell_type": "code",
      "metadata": {
        "id": "SG61iJzbwQx3"
      },
      "source": [
        "epochs=10\n",
        "batch_size=4\n",
        "learning_rate=0.01\n"
      ],
      "execution_count": 34,
      "outputs": []
    },
    {
      "cell_type": "code",
      "metadata": {
        "id": "zvOIi6aGw4Rp"
      },
      "source": [
        "transform= transforms.Compose([transforms.ToTensor(),transforms.Normalize((0.5,0.5,0.5),(0.5,0.5,0.5))])"
      ],
      "execution_count": 35,
      "outputs": []
    },
    {
      "cell_type": "code",
      "metadata": {
        "colab": {
          "base_uri": "https://localhost:8080/"
        },
        "id": "52Mdnnkkw5lV",
        "outputId": "283a5beb-da8c-4439-b971-1126ea2bdea6"
      },
      "source": [
        "train_dataset = torchvision.datasets.CIFAR10(root='./data',train= True, download= True, transform=transform)\n",
        "test_dataset = torchvision.datasets.CIFAR10(root='./data',train= False, download= True, transform=transform)\n",
        "\n",
        "train_loader = torch.utils.data.DataLoader(train_dataset,batch_size=batch_size, shuffle=True)\n",
        "test_loader= torch.utils.data.DataLoader(test_dataset, batch_size=batch_size, shuffle=False)\n",
        "\n",
        "labels= ('plane','car','bird','cat','deer','dog','frog','horse','ship','truck')\n"
      ],
      "execution_count": 36,
      "outputs": [
        {
          "output_type": "stream",
          "text": [
            "Files already downloaded and verified\n",
            "Files already downloaded and verified\n"
          ],
          "name": "stdout"
        }
      ]
    },
    {
      "cell_type": "code",
      "metadata": {
        "id": "FhIft3dt63y9"
      },
      "source": [
        "class ConvNet(nn.Module):\n",
        "  def __init__(self):\n",
        "    pass\n",
        "  def forward(self,x):\n",
        "    pass\n",
        "  "
      ],
      "execution_count": 37,
      "outputs": []
    },
    {
      "cell_type": "code",
      "metadata": {
        "colab": {
          "base_uri": "https://localhost:8080/"
        },
        "id": "AqfmBd5N7b-2",
        "outputId": "ada07862-f0a3-4b13-bc12-b9431cf4cd84"
      },
      "source": [
        "model = torch.hub.load('pytorch/vision:v0.9.0', 'resnet18', pretrained=True)\n",
        "\n",
        "\n",
        "criterion=nn.CrossEntropyLoss()\n",
        "optimizer= torch.optim.SGD(model.parameters(),lr=learning_rate)\n"
      ],
      "execution_count": 38,
      "outputs": [
        {
          "output_type": "stream",
          "text": [
            "Using cache found in /root/.cache/torch/hub/pytorch_vision_v0.9.0\n"
          ],
          "name": "stderr"
        }
      ]
    },
    {
      "cell_type": "code",
      "metadata": {
        "id": "YYOMwTS-8MBK"
      },
      "source": [
        "n_total_steps=len(train_loader)\n",
        "for epoch in range(epochs):\n",
        "  for i, (images,labels) in enumerate (train_loader):\n",
        "    images= images.to(device)\n",
        "    labels= labels.to(device)\n",
        "\n",
        "    outputs= model(images)\n",
        "    loss = criterion(outputs, labels)\n",
        "\n",
        "    optimizer.zero_grad()\n",
        "    loss.backward()\n",
        "    optimizer.step()\n",
        "\n",
        "    if(i+1)%2000 == 0:\n",
        "      printf(f'Epoch [{epoch+1}/{epochs }], Step  [{i+1}/{n_total_steps}], Loss: {loss.item()} ')\n",
        "print('Finished Training')\n",
        "\n",
        "with torch.no_grad():\n",
        "  n_correct = 0\n",
        "  n_samples=0\n",
        "  n_class_correct= [0 for i in range(10)]\n",
        "  n_class_samples= [0 for i in range(10)]\n",
        "  for images,labels in test_loader:\n",
        "    images= images.to(device)\n",
        "    labels= labels.to(device)\n",
        "    outputs=model(images)\n",
        "    _, predicted = torch.max(outputs, 1)\n",
        "    n_samples+= labels.size(0)\n",
        "    n_correct+= (predicted == labels).sum().item()\n",
        "\n",
        "    for i in range(batch_size):\n",
        "      label = labels[i] \n",
        "      pred= predicted[i]\n",
        "      if(label==pred):\n",
        "        n_class_correct[label]+=1\n",
        "      n_class_samples[label]+=1\n",
        "    \n",
        "    accuracy=100.0*n_correct/n_samples\n",
        "    print(f'Accuracy of the network : {acc}%')\n",
        "\n",
        "    for i in range(10):\n",
        "      acc=100.0* n_class_correct[i]/n_class_samples[i]\n",
        "      print(f'Accuracy of {classes[i]}:{acc}%')"
      ],
      "execution_count": null,
      "outputs": []
    },
    {
      "cell_type": "code",
      "metadata": {
        "id": "okAVSyyNEL0P"
      },
      "source": [
        ""
      ],
      "execution_count": null,
      "outputs": []
    }
  ]
}